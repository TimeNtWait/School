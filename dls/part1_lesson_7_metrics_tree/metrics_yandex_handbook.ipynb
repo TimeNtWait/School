{
 "cells": [
  {
   "cell_type": "markdown",
   "metadata": {},
   "source": [
    "https://academy.yandex.ru/handbook/ml/article/metriki-klassifikacii-i-regressii"
   ]
  },
  {
   "cell_type": "markdown",
   "metadata": {},
   "source": [
    "### Модель 1. Константное предсказание"
   ]
  },
  {
   "cell_type": "code",
   "execution_count": 5,
   "metadata": {},
   "outputs": [
    {
     "data": {
      "text/plain": [
       "(90, 0, 53, 0)"
      ]
     },
     "execution_count": 5,
     "metadata": {},
     "output_type": "execute_result"
    }
   ],
   "source": [
    "from sklearn.datasets import load_breast_cancer \n",
    "the_data = load_breast_cancer()    \n",
    "\n",
    "# 0 – \"доброкачественный\" \n",
    "# 1 – \"злокачественный\" \n",
    "relabeled_target = 1 - the_data[\"target\"] \n",
    "\n",
    "from sklearn.model_selection import train_test_split \n",
    "X = the_data[\"data\"] \n",
    "y = relabeled_target \n",
    "X_train, X_test, y_train, y_test = train_test_split(X, y, random_state=0) \n",
    "\n",
    "from sklearn.dummy import DummyClassifier \n",
    "dc_mf = DummyClassifier(strategy=\"most_frequent\") \n",
    "dc_mf.fit(X_train, y_train) \n",
    "\n",
    "from sklearn.metrics import confusion_matrix \n",
    "y_true = y_test \n",
    "y_pred = dc_mf.predict(X_test) \n",
    "dc_mf_tn, dc_mf_fp, dc_mf_fn, dc_mf_tp = confusion_matrix(y_true, y_pred, labels = [0, 1]).ravel() \n",
    "dc_mf_tn, dc_mf_fp, dc_mf_fn, dc_mf_tp\n"
   ]
  },
  {
   "cell_type": "code",
   "execution_count": 7,
   "metadata": {},
   "outputs": [
    {
     "data": {
      "text/plain": [
       "(87, 3, 1, 52)"
      ]
     },
     "execution_count": 7,
     "metadata": {},
     "output_type": "execute_result"
    }
   ],
   "source": [
    "from sklearn.ensemble import RandomForestClassifier \n",
    "rfc = RandomForestClassifier()       \n",
    "rfc.fit(X_train, y_train)       \n",
    "y_true = y_test       \n",
    "y_pred = rfc.predict(X_test)       \n",
    "rfc_tn, rfc_fp, rfc_fn, rfc_tp = confusion_matrix(y_true, y_pred, labels = [0, 1]).ravel()\n",
    "rfc_tn, rfc_fp, rfc_fn, rfc_tp"
   ]
  },
  {
   "cell_type": "code",
   "execution_count": 43,
   "metadata": {},
   "outputs": [
    {
     "name": "stdout",
     "output_type": "stream",
     "text": [
      "15.0\n",
      "[-10.0, -5.0, 0.0, 5.0, 10.0]\n",
      "[100.0, 25.0, 0.0, 25.0, 100.0]\n",
      "62.5\n",
      "7.094305849579052 22.90569415042095\n",
      "7.905694150420948\n",
      "[-1.2649110640673518, -0.6324555320336759, 0.0, 0.6324555320336759, 1.2649110640673518]\n"
     ]
    },
    {
     "data": {
      "text/plain": [
       "array([[-1.41421356],\n",
       "       [-0.70710678],\n",
       "       [ 0.        ],\n",
       "       [ 0.70710678],\n",
       "       [ 1.41421356]])"
      ]
     },
     "execution_count": 43,
     "metadata": {},
     "output_type": "execute_result"
    }
   ],
   "source": [
    "from sklearn.svm import LinearSVC\n",
    "from sklearn.preprocessing import StandardScaler\n",
    "\n",
    "x_temp = [\n",
    "     [5],\n",
    "     [10],\n",
    "     [15],\n",
    "     [20],\n",
    "     [25],\n",
    "]\n",
    "\n",
    "print(sum([i[0] for i in x_temp])/len(x_temp))\n",
    "mu = sum([i[0] for i in x_temp])/len(x_temp)\n",
    "print([i[0]-mu for i in x_temp])\n",
    "print([(i[0]-mu)**2 for i in x_temp])\n",
    "std = sum([(i[0]-mu)**2 for i in x_temp])/(len(x_temp)-1)\n",
    "print(std)\n",
    "std = std**(1/2)\n",
    "print(mu-std, mu+std)\n",
    "print(std)\n",
    "\n",
    "print([(i[0]-mu)/std for i in x_temp])\n",
    "\n",
    "\n",
    "scaler = StandardScaler()\n",
    "x_temp_normal = scaler.fit_transform(x_temp)\n",
    "x_temp_normal\n"
   ]
  },
  {
   "cell_type": "code",
   "execution_count": 45,
   "metadata": {},
   "outputs": [
    {
     "data": {
      "text/plain": [
       "(89, 1, 3, 50)"
      ]
     },
     "execution_count": 45,
     "metadata": {},
     "output_type": "execute_result"
    }
   ],
   "source": [
    "from sklearn.svm import LinearSVC\n",
    "from sklearn.preprocessing import StandardScaler \n",
    "ss = StandardScaler() \n",
    "ss.fit(X_train) \n",
    "scaled_linsvc = LinearSVC(C=0.01,random_state=42) \n",
    "scaled_linsvc.fit(ss.transform(X_train), y_train) \n",
    "y_true = y_test \n",
    "y_pred = scaled_linsvc.predict(ss.transform(X_test)) \n",
    "tn, fp, fn, tp = confusion_matrix(y_true, y_pred, labels = [0, 1]).ravel() \n",
    "tn, fp, fn, tp"
   ]
  },
  {
   "cell_type": "code",
   "execution_count": null,
   "metadata": {},
   "outputs": [],
   "source": []
  }
 ],
 "metadata": {
  "kernelspec": {
   "display_name": "Python 3 (ipykernel)",
   "language": "python",
   "name": "python3"
  },
  "language_info": {
   "codemirror_mode": {
    "name": "ipython",
    "version": 3
   },
   "file_extension": ".py",
   "mimetype": "text/x-python",
   "name": "python",
   "nbconvert_exporter": "python",
   "pygments_lexer": "ipython3",
   "version": "3.7.16"
  }
 },
 "nbformat": 4,
 "nbformat_minor": 1
}
